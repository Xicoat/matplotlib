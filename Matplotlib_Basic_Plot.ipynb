{
  "nbformat": 4,
  "nbformat_minor": 0,
  "metadata": {
    "colab": {
      "name": "Matplotlib - Basic Plot.ipynb",
      "provenance": [],
      "collapsed_sections": [],
      "authorship_tag": "ABX9TyNbD+CI4JeEYWaXtDn4OVSb",
      "include_colab_link": true
    },
    "kernelspec": {
      "name": "python3",
      "display_name": "Python 3"
    },
    "language_info": {
      "name": "python"
    }
  },
  "cells": [
    {
      "cell_type": "markdown",
      "metadata": {
        "id": "view-in-github",
        "colab_type": "text"
      },
      "source": [
        "<a href=\"https://colab.research.google.com/github/Xicoat/matplotlib/blob/main/Matplotlib_Basic_Plot.ipynb\" target=\"_parent\"><img src=\"https://colab.research.google.com/assets/colab-badge.svg\" alt=\"Open In Colab\"/></a>"
      ]
    },
    {
      "cell_type": "code",
      "metadata": {
        "id": "M6wH7TEfQn6w"
      },
      "source": [
        "%matplotlib inline"
      ],
      "execution_count": null,
      "outputs": []
    },
    {
      "cell_type": "code",
      "metadata": {
        "id": "6rBhVh_LQohk"
      },
      "source": [
        "import matplotlib as mpl\n",
        "import matplotlib.pyplot as plt"
      ],
      "execution_count": null,
      "outputs": []
    },
    {
      "cell_type": "code",
      "metadata": {
        "id": "4GRtezIbQt1K"
      },
      "source": [
        "# En modo interactivo la gráfica se actualiza en cada sentencia\n",
        "plt.ion()\n",
        "\n",
        "# Para apagar el mod interactivo:\n",
        "#matplotlib.pyplot.ioff()"
      ],
      "execution_count": null,
      "outputs": []
    },
    {
      "cell_type": "code",
      "metadata": {
        "colab": {
          "base_uri": "https://localhost:8080/"
        },
        "id": "cv13ThU0Qvhi",
        "outputId": "010875c0-060f-4d91-90c7-792aaa36fe52"
      },
      "source": [
        "# Validamos si es interactivo\n",
        "mpl.is_interactive()"
      ],
      "execution_count": null,
      "outputs": [
        {
          "output_type": "execute_result",
          "data": {
            "text/plain": [
              "True"
            ]
          },
          "metadata": {
            "tags": []
          },
          "execution_count": 4
        }
      ]
    },
    {
      "cell_type": "code",
      "metadata": {
        "colab": {
          "base_uri": "https://localhost:8080/",
          "height": 312
        },
        "id": "N44T6MmXQxqr",
        "outputId": "b8cc99f5-f4e2-43f0-e1be-853f105b05f4"
      },
      "source": [
        "plt.plot([1.5, 3.0])\n",
        "\n",
        "# Add labels and title\n",
        "plt.title('Interactive Plot') #Prints the title on top of graph\n",
        "plt.xlabel('X-axis')         # Prints X axis label as 'X-axis'\n",
        "plt.ylabel('Y-axis')  # Prints Y axis label as 'Y-axis'\n",
        "\n",
        "plt.plot([3.5, 2.5])"
      ],
      "execution_count": null,
      "outputs": [
        {
          "output_type": "execute_result",
          "data": {
            "text/plain": [
              "[<matplotlib.lines.Line2D at 0x7f26c7c33410>]"
            ]
          },
          "metadata": {
            "tags": []
          },
          "execution_count": 6
        },
        {
          "output_type": "display_data",
          "data": {
            "image/png": "[encoded data removed]",
            "text/plain": [
              "<Figure size 432x288 with 1 Axes>"
            ]
          },
          "metadata": {
            "tags": [],
            "needs_background": "light"
          }
        }
      ]
    },
    {
      "cell_type": "code",
      "metadata": {
        "colab": {
          "base_uri": "https://localhost:8080/"
        },
        "id": "UDaPgrrIew28",
        "outputId": "6020e120-9dfd-4216-f6c2-ab6d679a21ba"
      },
      "source": [
        "# En modo no interactivo la gráfica se crea hasta que se da la orden de forma explicita.\n",
        "import matplotlib\n",
        "import matplotlib.pyplot as plt\n",
        "\n",
        "# Interactive mode off\n",
        "plt.ioff()\n",
        "\n",
        "# Check status\n",
        "matplotlib.is_interactive()"
      ],
      "execution_count": null,
      "outputs": [
        {
          "output_type": "execute_result",
          "data": {
            "text/plain": [
              "False"
            ]
          },
          "metadata": {
            "tags": []
          },
          "execution_count": 7
        }
      ]
    },
    {
      "cell_type": "code",
      "metadata": {
        "colab": {
          "base_uri": "https://localhost:8080/",
          "height": 295
        },
        "id": "_8sTexuzmwkH",
        "outputId": "bfbe31ab-7408-401f-c1d2-950f53ffb526"
      },
      "source": [
        "# Plot the title, X and Y axis labels\n",
        "plt.title('Non Interactive Mode')\n",
        "plt.xlabel('X-axis')\n",
        "plt.ylabel('Y-axis')\n",
        "plt.show()"
      ],
      "execution_count": null,
      "outputs": [
        {
          "output_type": "display_data",
          "data": {
            "image/png": "[encoded data removed]",
            "text/plain": [
              "<Figure size 432x288 with 1 Axes>"
            ]
          },
          "metadata": {
            "tags": [],
            "needs_background": "light"
          }
        }
      ]
    }
  ]
}