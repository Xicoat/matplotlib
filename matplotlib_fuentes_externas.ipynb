{
  "nbformat": 4,
  "nbformat_minor": 0,
  "metadata": {
    "colab": {
      "name": "matplotlib_fuentes_externas.ipynb",
      "provenance": [],
      "collapsed_sections": [],
      "authorship_tag": "ABX9TyO9YB3uDnSLP+XH3Scx3DUI",
      "include_colab_link": true
    },
    "kernelspec": {
      "name": "python3",
      "display_name": "Python 3"
    },
    "language_info": {
      "name": "python"
    }
  },
  "cells": [
    {
      "cell_type": "markdown",
      "metadata": {
        "id": "view-in-github",
        "colab_type": "text"
      },
      "source": [
        "<a href=\"https://colab.research.google.com/github/Xicoat/matplotlib/blob/main/matplotlib_fuentes_externas.ipynb\" target=\"_parent\"><img src=\"https://colab.research.google.com/assets/colab-badge.svg\" alt=\"Open In Colab\"/></a>"
      ]
    },
    {
      "cell_type": "code",
      "metadata": {
        "id": "-AdXKFpZeWwN"
      },
      "source": [
        "# -*- coding: utf-8 -*-\n",
        "\"\"\"\n",
        "Created on Wed Jul  7 16:40:14 2021\n",
        "\n",
        "# Leyendo de fuentes externas.\n",
        "\n",
        "@author: Xicoat\n",
        "\"\"\"\n",
        "\n",
        "# Leyendo de fuentes externas.\n",
        "\n",
        "# Importar pyplolt\n",
        "import matplotlib.pyplot as plt\n",
        "import numpy as np\n",
        "import pandas as pd\n",
        "\n",
        "''' Leyendo desde un archivo txt '''\n",
        "txt = np.loadtxt('test.txt', delimiter = ',')\n",
        "txt\n",
        "\n",
        "# Convertir el arreglo lineal en una matriz de 5 x 2 \n",
        "txt = txt.reshape(5,2)\n",
        "txt\n",
        "\n",
        "# Dividirla matriz en coordenadas x y y\n",
        "x = txt[:,0]\n",
        "y = txt[:,1]\n",
        "print(x, y)\n",
        "\n",
        "'''' Leyendo de un archivo .csv '''\n",
        "x, y = np.loadtxt ('test.csv', unpack = True, usecols = (0,1), delimiter = ',')\n",
        "print(x)\n",
        "print(y)\n",
        "\n",
        "''' Leyendo de un archivo .xlsx '''\n",
        "# Numpy no soporta leer xls por lo que recurrimos a pandas\n",
        "df = pd.read_excel('test.xlsx', 'sheet', header=None)\n",
        "\n",
        "# Convertimos el Dataframe resultante a un arreglo Numpy\n",
        "data_array = np.array(df)\n",
        "print(data_array)\n",
        "\n",
        "# Extraer las columnas del arreglo Numpy y asignarlas a dos variables\n",
        "x , y = data_array[:,0], data_array[:,1]\n",
        "print(x,y)\n",
        "\n",
        "# Graficando los datos\n",
        "plt.plot(x, y)\n",
        "plt.show()"
      ],
      "execution_count": null,
      "outputs": []
    }
  ]
}