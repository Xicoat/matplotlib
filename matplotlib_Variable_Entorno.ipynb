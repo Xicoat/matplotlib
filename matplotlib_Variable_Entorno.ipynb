{
  "nbformat": 4,
  "nbformat_minor": 0,
  "metadata": {
    "colab": {
      "name": "matplotlib_Variable_Entorno.ipynb",
      "provenance": [],
      "authorship_tag": "ABX9TyM2+Tgn8aP5ybZ82DamwOYg",
      "include_colab_link": true
    },
    "kernelspec": {
      "name": "python3",
      "display_name": "Python 3"
    },
    "language_info": {
      "name": "python"
    }
  },
  "cells": [
    {
      "cell_type": "markdown",
      "metadata": {
        "id": "view-in-github",
        "colab_type": "text"
      },
      "source": [
        "<a href=\"https://colab.research.google.com/github/Xicoat/matplotlib/blob/main/matplotlib_Variable_Entorno.ipynb\" target=\"_parent\"><img src=\"https://colab.research.google.com/assets/colab-badge.svg\" alt=\"Open In Colab\"/></a>"
      ]
    },
    {
      "cell_type": "code",
      "metadata": {
        "id": "H158fDrVeLxJ"
      },
      "source": [
        "# -*- coding: utf-8 -*-\n",
        "\"\"\"\n",
        "Created on Wed Jul  7 21:18:49 2021\n",
        "\n",
        "Variable de entorno\n",
        "\n",
        "@author: Xicoat\n",
        "\"\"\"\n",
        "\n",
        "# El archivo matplotlibrc almacena valores de configuración de matplotlib\n",
        "# Los valores pueden ser editados para modificar las gráficas dentro de una sesión\n",
        "# El comando print(matplotlib.rcParams) devuelve los parámetros default\n",
        "# matplotlib.rcParams es usado para cambiar los valores default (lineas, fuentes, textos,...)\n",
        "# matplotlib.rcdefaults() devuelve los parámetros a su valor default.\n",
        "# matplotlib.rcsetup() valida que los parámetros modificados sean validos. Es usado internamente por matplotlib\n",
        "\n",
        "\n",
        "# Ubicar el archivo matplotlibrc\n",
        "import matplotlib\n",
        "matplotlib.matplotlib_fname()\n",
        "\n",
        "# Importa matplotlib\n",
        "import matplotlib.pyplot as plt\n",
        "x, y = np.loadtxt ('test.csv', unpack = True, usecols = (0,1), delimiter = ',')\n",
        "\n",
        "# Sobre escribe algunos parámetros\n",
        "matplotlib.rc('lines', linewidth=4, linestyle='-', marker='*')\n",
        "matplotlib.rcParams['lines.markersize'] = 20\n",
        "matplotlib.rcParams['font.size'] = '15.0'\n",
        "\n",
        "plt.plot(x,y)\n",
        "\n",
        "plt.show()\n",
        "\n",
        "# Para resetear los parámetros usamos: \n",
        "matplotlib.rcdefaults() \n",
        "plt.plot(x,y)\n",
        "plt.show()"
      ],
      "execution_count": null,
      "outputs": []
    }
  ]
}